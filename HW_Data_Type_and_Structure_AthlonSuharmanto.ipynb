{
  "nbformat": 4,
  "nbformat_minor": 0,
  "metadata": {
    "colab": {
      "provenance": []
    },
    "kernelspec": {
      "name": "python3",
      "display_name": "Python 3"
    },
    "language_info": {
      "name": "python"
    }
  },
  "cells": [
    {
      "cell_type": "markdown",
      "source": [
        "Task 1"
      ],
      "metadata": {
        "id": "Je3dJ_w4ikXn"
      }
    },
    {
      "cell_type": "code",
      "source": [
        "def isPalindrome(s):\n",
        "    return s == s[::-1]\n",
        "\n",
        "s = input('please enter the word: ')\n",
        "ans = isPalindrome(s)\n",
        " \n",
        "if ans:\n",
        "    print(s, 'is a Palindrome')\n",
        "else:\n",
        "    print(s, 'is not a Palindrome')"
      ],
      "metadata": {
        "id": "Lpa_CKy2imyS"
      },
      "execution_count": null,
      "outputs": []
    },
    {
      "cell_type": "markdown",
      "source": [
        "Task 2"
      ],
      "metadata": {
        "id": "9IHVyQ3Bi2pp"
      }
    },
    {
      "cell_type": "code",
      "source": [
        "black_list_word = ['andi', 'susi', 'bola']\n",
        "a = input('masukan kalimat anda: ')\n",
        "\n",
        "for x in black_list_word:\n",
        "  if x in a:\n",
        "    print('ada blacklist word')\n",
        "  else :\n",
        "    print('Tidak ada blacklist word')\n",
        "  break"
      ],
      "metadata": {
        "id": "6ssw5G82i4jg"
      },
      "execution_count": null,
      "outputs": []
    }
  ]
}