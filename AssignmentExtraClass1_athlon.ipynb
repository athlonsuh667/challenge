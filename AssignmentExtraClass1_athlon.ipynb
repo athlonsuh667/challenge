{
  "nbformat": 4,
  "nbformat_minor": 0,
  "metadata": {
    "colab": {
      "provenance": []
    },
    "kernelspec": {
      "name": "python3",
      "display_name": "Python 3"
    },
    "language_info": {
      "name": "python"
    }
  },
  "cells": [
    {
      "cell_type": "code",
      "execution_count": null,
      "metadata": {
        "id": "vP1to7KDPGNS"
      },
      "outputs": [],
      "source": [
        "MAX = 100\n",
        " \n",
        "def printDiagonalSums(mat, n):\n",
        " \n",
        "    principal = 0\n",
        "    secondary = 0\n",
        "    total = 0\n",
        "    \n",
        "    for i in range(0, n):\n",
        "        principal += mat[i][i]\n",
        "        secondary += mat[i][n - i - 1]\n",
        "        total += mat[i][i] + mat[i][n - i - 1 ]\n",
        "\n",
        "    print(f\"Principal Diagonal: {principal}\")\n",
        "    print(f\"Secondary Diagonal: {secondary}\")\n",
        "    print(f\"Total Diagonal: {total}\") \n",
        "\n",
        "matrix = [[ 7, 1, 5 ],\n",
        "          [ 1, 2, 3 ],\n",
        "          [ 4, 0, 6 ]]\n",
        "printDiagonalSums(matrix, 3)"
      ]
    },
    {
      "cell_type": "code",
      "source": [],
      "metadata": {
        "id": "Socb8-GxQPEJ"
      },
      "execution_count": null,
      "outputs": []
    }
  ]
}