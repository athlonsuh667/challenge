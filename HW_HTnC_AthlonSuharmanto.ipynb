{
  "nbformat": 4,
  "nbformat_minor": 0,
  "metadata": {
    "colab": {
      "provenance": []
    },
    "kernelspec": {
      "name": "python3",
      "display_name": "Python 3"
    },
    "language_info": {
      "name": "python"
    },
    "accelerator": "GPU"
  },
  "cells": [
    {
      "cell_type": "markdown",
      "source": [
        "Apakah Education berpengaruh terhadap Income?\n",
        "\n",
        "\n",
        "H0 = Education **tidak** berpengaruh terhadap Income\n",
        "\n",
        "H1 = Education berpengaruh terhadap Income\n",
        "\n",
        "α: 0.5\n"
      ],
      "metadata": {
        "id": "ZWCDDvGIe6a0"
      }
    },
    {
      "cell_type": "code",
      "execution_count": null,
      "metadata": {
        "id": "jRWPcErCcJ1m"
      },
      "outputs": [],
      "source": [
        "import pandas as pd\n",
        "import numpy as np\n",
        "import scipy.stats as st"
      ]
    },
    {
      "cell_type": "code",
      "source": [
        "df = pd.read_csv('./marketing_campaign.csv', sep=\"\\t\")"
      ],
      "metadata": {
        "id": "oO8WjWemgYtZ"
      },
      "execution_count": null,
      "outputs": []
    },
    {
      "cell_type": "code",
      "source": [
        "df.shape"
      ],
      "metadata": {
        "colab": {
          "base_uri": "https://localhost:8080/"
        },
        "id": "Jy9MyO9ITC4-",
        "outputId": "74f246b5-623f-4516-8289-658b567e58cf"
      },
      "execution_count": null,
      "outputs": [
        {
          "output_type": "execute_result",
          "data": {
            "text/plain": [
              "(2240, 29)"
            ]
          },
          "metadata": {},
          "execution_count": 4
        }
      ]
    },
    {
      "cell_type": "code",
      "source": [
        "df.info()"
      ],
      "metadata": {
        "colab": {
          "base_uri": "https://localhost:8080/"
        },
        "id": "7sZb3_mpTEK4",
        "outputId": "e340f967-31d3-486d-b3e8-6010d90b1eeb"
      },
      "execution_count": null,
      "outputs": [
        {
          "output_type": "stream",
          "name": "stdout",
          "text": [
            "<class 'pandas.core.frame.DataFrame'>\n",
            "RangeIndex: 2240 entries, 0 to 2239\n",
            "Data columns (total 29 columns):\n",
            " #   Column               Non-Null Count  Dtype  \n",
            "---  ------               --------------  -----  \n",
            " 0   ID                   2240 non-null   int64  \n",
            " 1   Year_Birth           2240 non-null   int64  \n",
            " 2   Education            2240 non-null   object \n",
            " 3   Marital_Status       2240 non-null   object \n",
            " 4   Income               2216 non-null   float64\n",
            " 5   Kidhome              2240 non-null   int64  \n",
            " 6   Teenhome             2240 non-null   int64  \n",
            " 7   Dt_Customer          2240 non-null   object \n",
            " 8   Recency              2240 non-null   int64  \n",
            " 9   MntWines             2240 non-null   int64  \n",
            " 10  MntFruits            2240 non-null   int64  \n",
            " 11  MntMeatProducts      2240 non-null   int64  \n",
            " 12  MntFishProducts      2240 non-null   int64  \n",
            " 13  MntSweetProducts     2240 non-null   int64  \n",
            " 14  MntGoldProds         2240 non-null   int64  \n",
            " 15  NumDealsPurchases    2240 non-null   int64  \n",
            " 16  NumWebPurchases      2240 non-null   int64  \n",
            " 17  NumCatalogPurchases  2240 non-null   int64  \n",
            " 18  NumStorePurchases    2240 non-null   int64  \n",
            " 19  NumWebVisitsMonth    2240 non-null   int64  \n",
            " 20  AcceptedCmp3         2240 non-null   int64  \n",
            " 21  AcceptedCmp4         2240 non-null   int64  \n",
            " 22  AcceptedCmp5         2240 non-null   int64  \n",
            " 23  AcceptedCmp1         2240 non-null   int64  \n",
            " 24  AcceptedCmp2         2240 non-null   int64  \n",
            " 25  Complain             2240 non-null   int64  \n",
            " 26  Z_CostContact        2240 non-null   int64  \n",
            " 27  Z_Revenue            2240 non-null   int64  \n",
            " 28  Response             2240 non-null   int64  \n",
            "dtypes: float64(1), int64(25), object(3)\n",
            "memory usage: 507.6+ KB\n"
          ]
        }
      ]
    },
    {
      "cell_type": "code",
      "source": [
        "df['Education'].unique()"
      ],
      "metadata": {
        "colab": {
          "base_uri": "https://localhost:8080/"
        },
        "id": "gy_OSCJuN5fy",
        "outputId": "d33761ea-7d17-4ebe-bca7-286a6666727d"
      },
      "execution_count": null,
      "outputs": [
        {
          "output_type": "execute_result",
          "data": {
            "text/plain": [
              "array(['Graduation', 'PhD', 'Master', 'Basic', '2n Cycle'], dtype=object)"
            ]
          },
          "metadata": {},
          "execution_count": 6
        }
      ]
    },
    {
      "cell_type": "code",
      "source": [
        "df.isna().sum()"
      ],
      "metadata": {
        "colab": {
          "base_uri": "https://localhost:8080/"
        },
        "id": "cZDz-F4Yv039",
        "outputId": "34a8c2ca-17e3-45c3-95e3-80b69b7afc7d"
      },
      "execution_count": null,
      "outputs": [
        {
          "output_type": "execute_result",
          "data": {
            "text/plain": [
              "ID                      0\n",
              "Year_Birth              0\n",
              "Education               0\n",
              "Marital_Status          0\n",
              "Income                 24\n",
              "Kidhome                 0\n",
              "Teenhome                0\n",
              "Dt_Customer             0\n",
              "Recency                 0\n",
              "MntWines                0\n",
              "MntFruits               0\n",
              "MntMeatProducts         0\n",
              "MntFishProducts         0\n",
              "MntSweetProducts        0\n",
              "MntGoldProds            0\n",
              "NumDealsPurchases       0\n",
              "NumWebPurchases         0\n",
              "NumCatalogPurchases     0\n",
              "NumStorePurchases       0\n",
              "NumWebVisitsMonth       0\n",
              "AcceptedCmp3            0\n",
              "AcceptedCmp4            0\n",
              "AcceptedCmp5            0\n",
              "AcceptedCmp1            0\n",
              "AcceptedCmp2            0\n",
              "Complain                0\n",
              "Z_CostContact           0\n",
              "Z_Revenue               0\n",
              "Response                0\n",
              "dtype: int64"
            ]
          },
          "metadata": {},
          "execution_count": 7
        }
      ]
    },
    {
      "cell_type": "code",
      "source": [
        "dc = df.loc[~df.Income.isna()]\n",
        "print(dc)"
      ],
      "metadata": {
        "colab": {
          "base_uri": "https://localhost:8080/"
        },
        "id": "yvu3S0PG1fxv",
        "outputId": "9e239869-2f0b-49ad-ab71-995e3e75dc55"
      },
      "execution_count": null,
      "outputs": [
        {
          "output_type": "stream",
          "name": "stdout",
          "text": [
            "         ID  Year_Birth   Education Marital_Status   Income  Kidhome  \\\n",
            "0      5524        1957  Graduation         Single  58138.0        0   \n",
            "1      2174        1954  Graduation         Single  46344.0        1   \n",
            "2      4141        1965  Graduation       Together  71613.0        0   \n",
            "3      6182        1984  Graduation       Together  26646.0        1   \n",
            "4      5324        1981         PhD        Married  58293.0        1   \n",
            "...     ...         ...         ...            ...      ...      ...   \n",
            "2235  10870        1967  Graduation        Married  61223.0        0   \n",
            "2236   4001        1946         PhD       Together  64014.0        2   \n",
            "2237   7270        1981  Graduation       Divorced  56981.0        0   \n",
            "2238   8235        1956      Master       Together  69245.0        0   \n",
            "2239   9405        1954         PhD        Married  52869.0        1   \n",
            "\n",
            "      Teenhome Dt_Customer  Recency  MntWines  ...  NumWebVisitsMonth  \\\n",
            "0            0  04-09-2012       58       635  ...                  7   \n",
            "1            1  08-03-2014       38        11  ...                  5   \n",
            "2            0  21-08-2013       26       426  ...                  4   \n",
            "3            0  10-02-2014       26        11  ...                  6   \n",
            "4            0  19-01-2014       94       173  ...                  5   \n",
            "...        ...         ...      ...       ...  ...                ...   \n",
            "2235         1  13-06-2013       46       709  ...                  5   \n",
            "2236         1  10-06-2014       56       406  ...                  7   \n",
            "2237         0  25-01-2014       91       908  ...                  6   \n",
            "2238         1  24-01-2014        8       428  ...                  3   \n",
            "2239         1  15-10-2012       40        84  ...                  7   \n",
            "\n",
            "      AcceptedCmp3  AcceptedCmp4  AcceptedCmp5  AcceptedCmp1  AcceptedCmp2  \\\n",
            "0                0             0             0             0             0   \n",
            "1                0             0             0             0             0   \n",
            "2                0             0             0             0             0   \n",
            "3                0             0             0             0             0   \n",
            "4                0             0             0             0             0   \n",
            "...            ...           ...           ...           ...           ...   \n",
            "2235             0             0             0             0             0   \n",
            "2236             0             0             0             1             0   \n",
            "2237             0             1             0             0             0   \n",
            "2238             0             0             0             0             0   \n",
            "2239             0             0             0             0             0   \n",
            "\n",
            "      Complain  Z_CostContact  Z_Revenue  Response  \n",
            "0            0              3         11         1  \n",
            "1            0              3         11         0  \n",
            "2            0              3         11         0  \n",
            "3            0              3         11         0  \n",
            "4            0              3         11         0  \n",
            "...        ...            ...        ...       ...  \n",
            "2235         0              3         11         0  \n",
            "2236         0              3         11         0  \n",
            "2237         0              3         11         0  \n",
            "2238         0              3         11         0  \n",
            "2239         0              3         11         1  \n",
            "\n",
            "[2216 rows x 29 columns]\n"
          ]
        }
      ]
    },
    {
      "cell_type": "code",
      "source": [
        "dc.info()"
      ],
      "metadata": {
        "colab": {
          "base_uri": "https://localhost:8080/"
        },
        "id": "9a4GsXMUMhil",
        "outputId": "ae3b58ff-2d91-4d52-d3e1-666e7402cc16"
      },
      "execution_count": null,
      "outputs": [
        {
          "output_type": "stream",
          "name": "stdout",
          "text": [
            "<class 'pandas.core.frame.DataFrame'>\n",
            "Int64Index: 2216 entries, 0 to 2239\n",
            "Data columns (total 29 columns):\n",
            " #   Column               Non-Null Count  Dtype  \n",
            "---  ------               --------------  -----  \n",
            " 0   ID                   2216 non-null   int64  \n",
            " 1   Year_Birth           2216 non-null   int64  \n",
            " 2   Education            2216 non-null   object \n",
            " 3   Marital_Status       2216 non-null   object \n",
            " 4   Income               2216 non-null   float64\n",
            " 5   Kidhome              2216 non-null   int64  \n",
            " 6   Teenhome             2216 non-null   int64  \n",
            " 7   Dt_Customer          2216 non-null   object \n",
            " 8   Recency              2216 non-null   int64  \n",
            " 9   MntWines             2216 non-null   int64  \n",
            " 10  MntFruits            2216 non-null   int64  \n",
            " 11  MntMeatProducts      2216 non-null   int64  \n",
            " 12  MntFishProducts      2216 non-null   int64  \n",
            " 13  MntSweetProducts     2216 non-null   int64  \n",
            " 14  MntGoldProds         2216 non-null   int64  \n",
            " 15  NumDealsPurchases    2216 non-null   int64  \n",
            " 16  NumWebPurchases      2216 non-null   int64  \n",
            " 17  NumCatalogPurchases  2216 non-null   int64  \n",
            " 18  NumStorePurchases    2216 non-null   int64  \n",
            " 19  NumWebVisitsMonth    2216 non-null   int64  \n",
            " 20  AcceptedCmp3         2216 non-null   int64  \n",
            " 21  AcceptedCmp4         2216 non-null   int64  \n",
            " 22  AcceptedCmp5         2216 non-null   int64  \n",
            " 23  AcceptedCmp1         2216 non-null   int64  \n",
            " 24  AcceptedCmp2         2216 non-null   int64  \n",
            " 25  Complain             2216 non-null   int64  \n",
            " 26  Z_CostContact        2216 non-null   int64  \n",
            " 27  Z_Revenue            2216 non-null   int64  \n",
            " 28  Response             2216 non-null   int64  \n",
            "dtypes: float64(1), int64(25), object(3)\n",
            "memory usage: 519.4+ KB\n"
          ]
        }
      ]
    },
    {
      "cell_type": "code",
      "source": [
        "st.f_oneway(dc['Income'][dc['Education'] == 'Graduation'],\n",
        "            dc['Income'][dc['Education'] == 'PhD'],\n",
        "            dc['Income'][dc['Education'] == 'Master'],\n",
        "            dc['Income'][dc['Education'] == 'Basic'],\n",
        "            dc['Income'][dc['Education'] == '2n Cycle']) "
      ],
      "metadata": {
        "colab": {
          "base_uri": "https://localhost:8080/"
        },
        "id": "S2WgkWfLIN_I",
        "outputId": "fb484427-0f9b-4e04-cdf0-88606d317434"
      },
      "execution_count": null,
      "outputs": [
        {
          "output_type": "execute_result",
          "data": {
            "text/plain": [
              "F_onewayResult(statistic=27.73918235234821, pvalue=1.6677281316366318e-22)"
            ]
          },
          "metadata": {},
          "execution_count": 12
        }
      ]
    },
    {
      "cell_type": "code",
      "source": [
        "st.levene(dc['Income'][dc['Education'] == 'Graduation'],\n",
        "          dc['Income'][dc['Education'] == 'PhD'],\n",
        "          dc['Income'][dc['Education'] == 'Master'],\n",
        "          dc['Income'][dc['Education'] == 'Basic'],\n",
        "          dc['Income'][dc['Education'] == '2n Cycle']) "
      ],
      "metadata": {
        "colab": {
          "base_uri": "https://localhost:8080/"
        },
        "id": "nZiRV6AhKMrP",
        "outputId": "6342f3d6-f197-4679-dc68-9b29c5d255f9"
      },
      "execution_count": null,
      "outputs": [
        {
          "output_type": "execute_result",
          "data": {
            "text/plain": [
              "LeveneResult(statistic=9.615928455899553, pvalue=1.043393432818024e-07)"
            ]
          },
          "metadata": {},
          "execution_count": 13
        }
      ]
    },
    {
      "cell_type": "markdown",
      "source": [
        "α > 0.5 maka H1 ditolak, H0 diterima\n",
        "Pendidikan tidak berpengaruh pada Pendapatan"
      ],
      "metadata": {
        "id": "uQPVoFuPLInu"
      }
    },
    {
      "cell_type": "code",
      "source": [],
      "metadata": {
        "id": "vRBF90FlLl4P"
      },
      "execution_count": null,
      "outputs": []
    }
  ]
}